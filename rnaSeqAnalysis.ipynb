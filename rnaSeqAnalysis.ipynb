{
  "nbformat": 4,
  "nbformat_minor": 0,
  "metadata": {
    "colab": {
      "name": "rnaSeqAnalysis.ipynb",
      "provenance": [],
      "include_colab_link": true
    },
    "kernelspec": {
      "name": "python3",
      "display_name": "Python 3"
    },
    "language_info": {
      "name": "python"
    }
  },
  "cells": [
    {
      "cell_type": "markdown",
      "metadata": {
        "id": "view-in-github",
        "colab_type": "text"
      },
      "source": [
        "<a href=\"https://colab.research.google.com/github/hanielcedraz/ZOO_765-RNA-Seq_Course/blob/main/rnaSeqAnalysis.ipynb\" target=\"_parent\"><img src=\"https://colab.research.google.com/assets/colab-badge.svg\" alt=\"Open In Colab\"/></a>"
      ]
    },
    {
      "cell_type": "markdown",
      "metadata": {
        "id": "CHtoyHJvuUmh"
      },
      "source": [
        "# Basic Linux commands\n",
        "\n",
        "Please, open a new box and run each one of the commands and see what happen.\n",
        "You can open as many box you need, or just replace the command and run another one in the same box.\n",
        "\n",
        "\n",
        "```\n",
        "pwd # Print the work directory\n",
        "ls [file/dir] # list all content in a directory;\n",
        "ls -l [file/dir] – Long list. Show hidden files;\n",
        "cd  - Change Directory;\n",
        "cp f1 f2 – Copy file f1 to file f2;\n",
        "mv home/f1 new_directory/f1 – Move file from a directory to another;\n",
        "mv f1 f2 – Rename file f1 to file f2;\n",
        "```\n",
        "\n",
        "```\n",
        "mkdir dir # Create a new folder;\n",
        "rm arquivo # Delete file;\n",
        "rmdir dir # Delete empty folder;\n",
        "rm -rf dir # Force delete nonempty;\n",
        "Nano/vi file.txt # Text editor;\n",
        "cat f1 [f2] # print file f1 and concatenate into file f2;\n",
        "less file # print one page a time;\n",
        "head file # print the first 10 rows;\n",
        "tail file # Print the last 10 rows;\n",
        "\n",
        "```\n",
        "\n",
        "Special Character:\n",
        " - |\tVertical bar, called “pipe”, it indicates that finish a command and start another;\n",
        " - < > \tIn and out of a command;\n",
        " - \\>>\tAppend contente;\n",
        " - .\tCurrent dir\n",
        " - ..\tBack one dir;\n",
        " - \\/\tFolder Delimiter;\n",
        " - \\*\tWild character, used in the beggining or end of a command;\n",
        "\n",
        "\n",
        "When name files or directory avoid special character and spaces. Use dot (.), Underscore (_) between words or CamelCase!!\n"
      ]
    },
    {
      "cell_type": "code",
      "metadata": {
        "colab": {
          "base_uri": "https://localhost:8080/"
        },
        "id": "pYSr_yYhuh5L",
        "outputId": "c5e85f01-7891-49a0-d9c7-c7612b65dd88"
      },
      "source": [
        "%%bash\n",
        "#example\n",
        "pwd"
      ],
      "execution_count": 263,
      "outputs": [
        {
          "output_type": "stream",
          "name": "stdout",
          "text": [
            "/content\n"
          ]
        }
      ]
    },
    {
      "cell_type": "markdown",
      "metadata": {
        "id": "dqcEmGHnO4r2"
      },
      "source": [
        "# Set up the environment\n",
        "You need to download/install Trimmomatic, FastQC, MultiQC, STAR, Hisat2 and htseqCount.\n",
        "\n",
        "### Quality Control\n",
        "\n",
        "#### Download and instaling FastQC and MultiQC\n",
        "\n",
        "Go to https://www.bioinformatics.babraham.ac.uk/projects/download.html#fastqc \\\n",
        "and download the last version of FastQC.\n",
        "\n",
        "https://www.bioinformatics.babraham.ac.uk/projects/fastqc/fastqc_v0.11.9.zip\n",
        "\n",
        "\n",
        "### Download Trimmometic and create a soft link for it"
      ]
    },
    {
      "cell_type": "code",
      "metadata": {
        "id": "nkPJACIKJuB3"
      },
      "source": [
        "%%bash\n",
        "# Create a folder to store the programs\n",
        "mkdir programs\n",
        "\n",
        "# Downloading Timmomatic, FastQC and STAR\n",
        "wget http://www.usadellab.org/cms/uploads/supplementary/Trimmomatic/Trimmomatic-0.39.zip  -q -O programs/Trimmomatic-0.39.zip\n",
        "wget https://www.bioinformatics.babraham.ac.uk/projects/fastqc/fastqc_v0.11.9.zip -q -O programs/fastqc_v0.11.9.zip --no-check-certificate\n",
        "wget https://github.com/alexdobin/STAR/archive/2.7.9a.tar.gz -q -O programs/2.7.9a.tar.gz\n",
        "\n",
        "cd programs/\n",
        "unzip fastqc_v0.11.9.zip\n",
        "rm -rf fastqc_v0.11.9.zip\n",
        "\n",
        "unzip Trimmomatic-0.39.zip\n",
        "rm Trimmomatic-0.39.zip \n",
        "\n",
        "## Uncompressing STAR\n",
        "tar -xzf 2.7.9a.tar.gz\n",
        "rm 2.7.9a.tar.gz\n",
        "\n",
        "\n",
        "# Go back to the previous directory\n",
        "cd ../ \n",
        "\n",
        "# Create a soft link to Trimmomatic\n",
        "ln -s programs/Trimmomatic-0.39/trimmomatic-0.39.jar . \n",
        "\n",
        "# Take a look at the adapter in the Trimmomatic folder\n",
        "ls -lh programs/Trimmomatic-0.39/adapters/\n",
        "\n",
        "# create soft link to fastq\n",
        "chmod +x programs/FastQC/fastqc\n",
        "ln -s programs/FastQC/fastqc .\n",
        "\n",
        "# create soft link to STAR\n",
        "chmod +x ls -l programs/STAR-2.7.9a/bin/Linux_x86_64/STAR\n",
        "ln -s programs/STAR-2.7.9a/bin/Linux_x86_64/STAR .\n",
        "#### ---------------------------------------------------------------------#\n",
        "\n",
        "mkdir reports # This folder will be used to store QC reports\n",
        "\n",
        "#### ---------------------------------------------------------------------#\n",
        "\n",
        "## Instaling MultiQC\n",
        "\n",
        "pip install multiqc\n",
        "\n",
        "#### ---------------------------------------------------------------------#\n",
        "\n",
        "#### ---------------------------------------------------------------------#\n",
        "\n",
        "## Instaling HTseqCount\n",
        "pip install HTSeq\n"
      ],
      "execution_count": null,
      "outputs": []
    },
    {
      "cell_type": "markdown",
      "metadata": {
        "id": "fWJcnmMu9s-X"
      },
      "source": [
        "# Set up the data\n",
        "\n",
        "### Downloading the public data\n",
        "You can download several fastq files from projects at the public database such as ENA database: https://www.ebi.ac.uk/ena/browser/home\n",
        "\n",
        "Project: PRJEB33381\n",
        "\n",
        "The goal of the current study was to identify differentially-expressed genes and pathways in the Longissimus dorsi muscle of Iberian × Landrace backcrossed pigs with extreme phenotypes for muscle FA profile to better understand the differences in meat quality traits observed between both breeds. Moreover, we provide valuable data for the porcine annotation improvement.\n",
        "\n",
        "Sus scrofa strain: Iberian x Landrace Transcriptome\n",
        "\n",
        "### Download the folowing files"
      ]
    },
    {
      "cell_type": "code",
      "metadata": {
        "id": "qKsOqfMt7uk1"
      },
      "source": [
        "%%bash\n",
        "\n",
        "\n",
        "mkdir 00-Fastq\n",
        "\n",
        "# Downloading public data from ENA database\n",
        "#wget ftp.sra.ebi.ac.uk/vol1/fastq/ERR341/008/ERR3417918/ERR3417918_1.fastq.gz -O rawFastq/ERR3417918_PRJEB33381_Sus.Scrofa_Liver_R1_001.fastq.gz\n",
        "#wget ftp.sra.ebi.ac.uk/vol1/fastq/ERR341/008/ERR3417918/ERR3417918_2.fastq.gz -O rawFastq/ERR3417918_PRJEB33381_Sus.Scrofa_Liver_R2_001.fastq.gz\n",
        "#wget ftp.sra.ebi.ac.uk/vol1/fastq/ERR341/004/ERR3417904/ERR3417904_1.fastq.gz -O rawFastq/ERR3417904_PRJEB33381_Sus.Scrofa_Testis_R1_001.fastq.gz\n",
        "#wget ftp.sra.ebi.ac.uk/vol1/fastq/ERR341/004/ERR3417904/ERR3417904_2.fastq.gz -O rawFastq/ERR3417904_PRJEB33381_Sus.Scrofa_Testis_R2_001.fastq.gz\n",
        "#wget ftp.sra.ebi.ac.uk/vol1/fastq/ERR341/006/ERR3417916/ERR3417916_1.fastq.gz -O rawFastq/ERR3417916_PRJEB33381_Sus.Scrofa_Brain_R1_001.fastq.gz\n",
        "#wget ftp.sra.ebi.ac.uk/vol1/fastq/ERR341/006/ERR3417916/ERR3417916_2.fastq.gz -O rawFastq/ERR3417916_PRJEB33381_Sus.Scrofa_Brain_R2_001.fastq.gz\n",
        "#wget ftp.sra.ebi.ac.uk/vol1/fastq/ERR341/004/ERR3417924/ERR3417924_1.fastq.gz -O rawFastq/ERR3417924_PRJEB33381_Sus.Scrofa_Liver_R1_001.fastq.gz\n",
        "#wget ftp.sra.ebi.ac.uk/vol1/fastq/ERR341/004/ERR3417924/ERR3417924_2.fastq.gz -O rawFastq/ERR3417924_PRJEB33381_Sus.Scrofa_Liver_R2_001.fastq.gz\n",
        "#wget ftp.sra.ebi.ac.uk/vol1/fastq/ERR341/005/ERR3417935/ERR3417935_1.fastq.gz -O rawFastq/ERR3417935_PRJEB33381_Sus.Scrofa_Muscle_R1_001.fastq.gz\n",
        "#wget ftp.sra.ebi.ac.uk/vol1/fastq/ERR341/005/ERR3417935/ERR3417935_2.fastq.gz -O rawFastq/ERR3417935_PRJEB33381_Sus.Scrofa_Muscle_R2_001.fastq.gz\n",
        "#wget ftp.sra.ebi.ac.uk/vol1/fastq/ERR341/007/ERR3417937/ERR3417937_1.fastq.gz -O rawFastq/ERR3417937_PRJEB33381_Sus.Scrofa_Liver_R1_001.fastq.gz\n",
        "#wget ftp.sra.ebi.ac.uk/vol1/fastq/ERR341/007/ERR3417937/ERR3417937_2.fastq.gz -O rawFastq/ERR3417937_PRJEB33381_Sus.Scrofa_Liver_R2_001.fastq.gz\n",
        "#wget ftp.sra.ebi.ac.uk/vol1/fastq/ERR341/002/ERR3417952/ERR3417952_1.fastq.gz -O rawFastq/ERR3417952_PRJEB33381_Sus.Scrofa_Testis_R1_001.fastq.gz\n",
        "#wget ftp.sra.ebi.ac.uk/vol1/fastq/ERR341/002/ERR3417952/ERR3417952_2.fastq.gz -O rawFastq/ERR3417952_PRJEB33381_Sus.Scrofa_Testis_R2_001.fastq.gz\n",
        "#wget ftp.sra.ebi.ac.uk/vol1/fastq/ERR341/005/ERR3417965/ERR3417965_1.fastq.gz -O rawFastq/ERR3417965_PRJEB33381_Sus.Scrofa_Muscle_R1_001.fastq.gz\n",
        "#wget ftp.sra.ebi.ac.uk/vol1/fastq/ERR341/005/ERR3417965/ERR3417965_2.fastq.gz -O rawFastq/ERR3417965_PRJEB33381_Sus.Scrofa_Muscle_R2_001.fastq.gz\n",
        "#wget ftp.sra.ebi.ac.uk/vol1/fastq/ERR341/003/ERR3417993/ERR3417993_1.fastq.gz -O rawFastq/ERR3417993_PRJEB33381_Sus.Scrofa_Muscle_R1_001.fastq.gz\n",
        "#wget ftp.sra.ebi.ac.uk/vol1/fastq/ERR341/003/ERR3417993/ERR3417993_2.fastq.gz -O rawFastq/ERR3417993_PRJEB33381_Sus.Scrofa_Muscle_R2_001.fastq.gz\n",
        "#wget ftp.sra.ebi.ac.uk/vol1/fastq/ERR341/002/ERR3418012/ERR3418012_1.fastq.gz -O rawFastq/ERR3418012_PRJEB33381_Sus.Scrofa_Testis_R1_001.fastq.gz\n",
        "#wget ftp.sra.ebi.ac.uk/vol1/fastq/ERR341/002/ERR3418012/ERR3418012_2.fastq.gz -O rawFastq/ERR3418012_PRJEB33381_Sus.Scrofa_Testis_R2_001.fastq.gz\n",
        "#wget ftp.sra.ebi.ac.uk/vol1/fastq/ERR341/004/ERR3418014/ERR3418014_1.fastq.gz -O rawFastq/ERR3418014_PRJEB33381_Sus.Scrofa_Brain_R1_001.fastq.gz\n",
        "#wget ftp.sra.ebi.ac.uk/vol1/fastq/ERR341/004/ERR3418014/ERR3418014_2.fastq.gz -O rawFastq/ERR3418014_PRJEB33381_Sus.Scrofa_Brain_R2_001.fastq.gz\n",
        "#wget ftp.sra.ebi.ac.uk/vol1/fastq/ERR341/008/ERR3418018/ERR3418018_1.fastq.gz -O rawFastq/ERR3418018_PRJEB33381_Sus.Scrofa_Brain_R1_001.fastq.gz\n",
        "#wget ftp.sra.ebi.ac.uk/vol1/fastq/ERR341/008/ERR3418018/ERR3418018_2.fastq.gz -O rawFastq/ERR3418018_PRJEB33381_Sus.Scrofa_Brain_R2_001.fastq.gz\n",
        "\n",
        "\n",
        "\n",
        "# Downloading edited samples\n",
        "\n",
        "wget https://github.com/hanielcedraz/BAQCOM/raw/master/examples/HE20-100K_L001_R1_001.fastq.gz -q -O 00-Fastq/HE20-100K_L001_R1_001.fastq.gz\n",
        "wget https://github.com/hanielcedraz/BAQCOM/raw/master/examples/HE20-100K_L001_R2_001.fastq.gz -q -O 00-Fastq/HE20-100K_L001_R2_001.fastq.gz\n",
        "wget https://github.com/hanielcedraz/BAQCOM/raw/master/examples/HE21-100K_L001_R1_001.fastq.gz -q -O 00-Fastq/HE21-100K_L001_R1_001.fastq.gz\n",
        "wget https://github.com/hanielcedraz/BAQCOM/raw/master/examples/HE21-100K_L001_R2_001.fastq.gz -q -O 00-Fastq/HE21-100K_L001_R2_001.fastq.gz\n",
        "\n",
        "\n",
        "ls -lh 00-Fastq"
      ],
      "execution_count": null,
      "outputs": []
    },
    {
      "cell_type": "code",
      "metadata": {
        "id": "ugealpECQzcG"
      },
      "source": [
        "%%bash\n",
        "\n",
        "# Running fastQC for Raw reads \n",
        "# fastqc 00-Fastq/sample1..fastq.gz 00-Fastq/sample2..fastq.gz 00-Fastq/sample3..fastq.gz...\n",
        "#mkdir reports\n",
        "programs/FastQC/fastqc 00-Fastq/HE2* -o reports/\n",
        "\n",
        "ls -l reports"
      ],
      "execution_count": null,
      "outputs": []
    },
    {
      "cell_type": "markdown",
      "metadata": {
        "id": "nhgvF7Ca95ll"
      },
      "source": [
        "Create a new folder in your home directory named 00-Fastq and place the fastq files into the folder you just created\n",
        "\n"
      ]
    },
    {
      "cell_type": "code",
      "metadata": {
        "id": "dsedODnW9VOk"
      },
      "source": [
        "%%bash\n",
        "\n",
        "mkdir 01-CleanedReads # This will be used to store the results from the QC\n",
        "ls -l 00-Fastq/"
      ],
      "execution_count": null,
      "outputs": []
    },
    {
      "cell_type": "markdown",
      "metadata": {
        "id": "xdusTcNvJoaO"
      },
      "source": [
        "### Trimmomatic: A flexible read trimming tool for Illumina NGS data\n",
        "###### Bolger, A. M., Lohse, M., & Usadel, B. (2014). Trimmomatic: A flexible trimmer for Illumina Sequence Data. Bioinformatics, btu170\n",
        "\n",
        "http://www.usadellab.org/cms/?page=trimmomatic\n",
        "\n",
        "```\n",
        "  $ java -jar trimmomatic-0.39.jar PE input_forward.fq.gz input_reverse.fq.gz \\\n",
        "  output_forward_paired.fq.gz output_forward_unpaired.fq.gz \\\n",
        "   output_reverse_paired.fq.gz output_reverse_unpaired.fq.gz \\\n",
        "   ILLUMINACLIP:TruSeq3-PE.fa:2:30:10:2:keepBothReads \\ \n",
        "   LEADING:3 TRAILING:3 MINLEN:36\n",
        "```\n",
        "\n",
        "\n",
        "\n",
        "\n",
        "### This will perform the following:\n",
        "\n",
        "- Remove adapters (ILLUMINACLIP:TruSeq3-PE.fa:2:30:10)\n",
        "- Remove leading low quality or N bases (below quality 3) (LEADING:3)\n",
        "- Remove trailing low quality or N bases (below quality 3) (TRAILING:3)\n",
        "- Scan the read with a 4-base wide sliding window, cutting when the average \\\n",
        "quality per base drops below 15 (SLIDINGWINDOW:4:15)\n",
        "- Drop reads below the 36 bases long (MINLEN:36)\n",
        "\n",
        "\n",
        "\n",
        "Step options:\n",
        "\n",
        "- ILLUMINACLIP:fastaWithAdaptersEtc:seedMismatches:palindromeClipThreshold:simpleClipThreshold:2:keepBothReads\n",
        "  - fastaWithAdaptersEtc: specifies the path to a fasta file containing all the adapters, PCR sequences etc. The naming of the various sequences within this file determines how they are used. See below.\n",
        "  - seedMismatches: specifies the maximum mismatch count which will still allow a full match to be performed\n",
        "  - palindromeClipThreshold: specifies how accurate the match between the two 'adapter ligated' reads must be for PE palindrome read alignment.\n",
        "  - simpleClipThreshold: specifies how accurate the match between any adapter etc. sequence must be against a read.\n",
        "  - 2 is the minimum adapter length in palindrome mode.\n",
        "  - keepBothReads can be useful when working with paired end data, you will keep even redunfant information but this likely makes your pipelines more manageable.\n",
        "- SLIDINGWINDOW:windowSize:requiredQuality\n",
        "  - windowSize: specifies the number of bases to average across\n",
        "  - requiredQuality: specifies the average quality required.\n",
        "- LEADING:quality\n",
        "  - quality: Specifies the minimum quality required to keep a base.\n",
        "- TRAILING:quality\n",
        "  - quality: Specifies the minimum quality required to keep a base.\n",
        "- MINLEN:length\n",
        "  - length: Specifies the minimum length of reads to be kept.\n",
        "\n",
        "\\\n",
        "\n",
        "\n"
      ]
    },
    {
      "cell_type": "code",
      "metadata": {
        "id": "0LI9z1nr_8_Y"
      },
      "source": [
        "%%bash\n",
        "# Running Quality control with Trimmomatic\n",
        "### Small reads\n",
        "\n",
        "# Run sample HE20-100K\n",
        "java -jar trimmomatic-0.39.jar PE  \\\n",
        "00-Fastq/HE20-100K_L001_R1_001.fastq.gz  \\\n",
        "00-Fastq/HE20-100K_L001_R2_001.fastq.gz  \\\n",
        "01-CleanedReads/HE20-100K_L001_PE1.fastq.gz  \\\n",
        "01-CleanedReads/HE20-100K_L001_SE1.fastq.gz  \\\n",
        "01-CleanedReads/HE20-100K_L001_PE2.fastq.gz  \\\n",
        "01-CleanedReads/HE20-100K_L001_SE2.fastq.gz  \\\n",
        "ILLUMINACLIP:programs/Trimmomatic-0.39/adapters/TruSeq3-PE.fa:2:30:10:2:keepBothReads  \\\n",
        "LEADING:3 TRAILING:3\n",
        "\n",
        "# Run sample HE21-100K\n",
        "java -jar trimmomatic-0.39.jar PE  \\\n",
        "00-Fastq/HE21-100K_L001_R1_001.fastq.gz  \\\n",
        "00-Fastq/HE21-100K_L001_R2_001.fastq.gz  \\\n",
        "01-CleanedReads/HE21-100K_L001_PE1.fastq.gz  \\\n",
        "01-CleanedReads/HE21-100K_L001_SE1.fastq.gz  \\\n",
        "01-CleanedReads/HE21-100K_L001_PE2.fastq.gz  \\\n",
        "01-CleanedReads/HE21-100K_L001_SE2.fastq.gz  \\\n",
        "ILLUMINACLIP:programs/Trimmomatic-0.39/adapters/TruSeq3-PE.fa:2:30:10:2:keepBothReads  \\\n",
        "LEADING:3 TRAILING:3\n",
        "\n",
        "\n",
        "cd 01-CleanedReads/\n",
        "chmod 777 HE* \n",
        "cd ../\n"
      ],
      "execution_count": null,
      "outputs": []
    },
    {
      "cell_type": "markdown",
      "metadata": {
        "id": "xvBMem_5LHSB"
      },
      "source": [
        "After QC we can take a look at the results.\n",
        "\n",
        "Open the 00-Fastq and 01-CleanedReads folders to compare.\n"
      ]
    },
    {
      "cell_type": "code",
      "metadata": {
        "id": "gfnLY3K6LWfK"
      },
      "source": [
        "%%bash\n",
        "echo -e \"00-Fastq\\n\"\n",
        "ls -lh 00-Fastq/HE2*\n",
        "\n",
        "echo -e \"\\n01-CleanedReads\\n\"\n",
        "ls -lh 01-CleanedReads/HE2*"
      ],
      "execution_count": null,
      "outputs": []
    },
    {
      "cell_type": "code",
      "metadata": {
        "id": "lGHe_3U4EPOf"
      },
      "source": [
        "%%bash\n",
        "## Running fastQC for Cleaned reads \n",
        "fastqc 01-CleanedReads/HE2* -o reports/\n",
        "\n",
        "## Running MultiQC\n",
        "#multiqc -h\n",
        "multiqc reports/ -o reports/\n",
        "ls -lh reports"
      ],
      "execution_count": null,
      "outputs": []
    },
    {
      "cell_type": "markdown",
      "metadata": {
        "id": "XyGnjlVOSgz0"
      },
      "source": [
        "## Mapping\n",
        "\n",
        "For aligning the cleaned reads agains the regerence genome you will need an aligner.  \n",
        "For RNA-Seq data you can use STAR or Hisat2 among others.\n",
        "\n",
        "Also you gonna need a genome for reference. As we are working with public RNA-Seq from pigs, we will download the pig reference genome version Sus.Scrofa 11.1 and the annotation file for this version.\n",
        "\n",
        "\n",
        "Go to https://www.ensembl.org, click on the \"Download\" option at the top then click on the \"FTP Download\" at the left side. \\\n",
        "\n",
        "\n",
        "You will find a list of spcies. Just search by typing \"pig\" on the search field on the top right of the table.\n",
        "\n",
        "Find Pig Sus scrofa and click on \"FASTA\" in the DNA (FASTA) column then download the Sus_scrofa.Sscrofa11.1.dna.toplevel.fa.gz file.\n",
        "\n",
        "Go back to the previous page and click on \"GTF\" in the Gene sets column and download the Sus_scrofa.Sscrofa11.1.104.gtf.gz file.\n",
        "\n"
      ]
    },
    {
      "cell_type": "code",
      "metadata": {
        "id": "qBJJW6zYRzz6"
      },
      "source": [
        "%%bash\n",
        "## Create a folder to store the reference genome\n",
        "\n",
        "mkdir referenceGenome\n",
        "# Whole pig reference genome\n",
        "#wget http://ftp.ensembl.org/pub/release-104/fasta/sus_scrofa/dna/Sus_scrofa.Sscrofa11.1.dna.toplevel.fa.gz -O referenceGenome/Sus_scrofa.Sscrofa11.1.dna.toplevel.fa.gz\n",
        "#wget http://ftp.ensembl.org/pub/release-104/gtf/sus_scrofa/Sus_scrofa.Sscrofa11.1.104.gtf.gz -O referenceGenome/Sus_scrofa.Sscrofa11.1.104.gtf.gz\n",
        "\n",
        "# Edited reference genome\n",
        "wget https://github.com/hanielcedraz/BAQCOM/raw/master/examples/genome/Sus.Scrofa.chr1.gene.annotation.gtf.gz -q -O referenceGenome/Sus.Scrofa.chr1.gene.annotation.gtf.gz\n",
        "wget https://github.com/hanielcedraz/BAQCOM/raw/master/examples/genome/Sus.Scrofa.chr1.genome.dna.toplevel.fa.gz -q -O referenceGenome/Sus.Scrofa.chr1.genome.dna.toplevel.fa.gz\n",
        "\n",
        "cd referenceGenome\n",
        "gunzip Sus.Scrofa.chr1.gene.annotation.gtf.gz\n",
        "gunzip Sus.Scrofa.chr1.genome.dna.toplevel.fa.gz\n",
        "\n",
        "ls -l\n",
        "\n",
        "cd ../"
      ],
      "execution_count": null,
      "outputs": []
    },
    {
      "cell_type": "markdown",
      "metadata": {
        "id": "vkQXWTdeW2vc"
      },
      "source": [
        "## STAR\n",
        "https://doi.org/10.1093/bioinformatics/bts635\n",
        "\n",
        "### Running STAR for genome indexation:\n",
        "\n",
        "\n",
        "```\n",
        "STAR --runMode genomeGenerate --runThreadN 10 --genomeDir index_Folder \\\n",
        "--genomeFastaFiles mappingTarget --sjdbGTFfile gtfTarget --sjdbOverhang 99\n",
        "```\n",
        "\n",
        "- `--runMode` genomeGenerate\n",
        "  - Directs STAR to run genome indices generation job.\n",
        "- `--runThreadN`\n",
        "  - Defines the number of threads to be used for genome generation, it has to be set to the number of available cores on the server node\n",
        "- `--genomeDir`\n",
        "  - specifies path to the directory (henceforth called ”genome directory” where the genome indices are stored. This directory has to be created (with mkdir) before STAR run and needs to have writing permissions. The file system needs to have at least 100GB of disk space available for a typical mammalian genome. It is recommended to remove all files from the genome directory before running the genome generation step. This directory path will have to be supplied at the mapping step to identify the reference genome.\n",
        "- `--genomeFastaFiles` \n",
        "  - One or more FASTA files with the genome reference sequences. Multiple reference sequences (henceforth called “chromosomes”) are allowed for each fasta file. You can rename the chromosomes’ names in the chrName.txt keeping the order of the chromosomes in the file: the names from this file will be used in all output alignment files (such as .sam). The tabs are not allowed in chromosomes’ names, and spaces are not recommended.\n",
        "- `--sjdbGTFfile `\n",
        "  - The path to the file with annotated transcripts in the standard GTF\n",
        "format. STAR will extract splice junctions from this file and use them to greatly improve accuracy of the mapping. While this is optional, and STAR can be run without annotations, using annotations is highly recommended whenever they are available. \n",
        "- `--sjdbOverhang` \n",
        "  - The length of the genomic sequence around the annotated junction to be used in constructing the splice junctions database. Ideally, this length should be equal to the ReadLength-1, where ReadLength is the length of the reads. For instance, for Illumina 2x100b paired-end reads, the ideal value is 100-1=99. In case of reads of varying length, the ideal value is max(ReadLength)-1. In most cases, the default value of 100 will work as well as the ideal value.\n",
        "\n"
      ]
    },
    {
      "cell_type": "code",
      "metadata": {
        "id": "V3VEQV0ZNHZP"
      },
      "source": [
        "%%bash\n",
        "# create the index folder inside of the referenceGenome directory\n",
        "#mkdir referenceGenome/Index_STAR\n",
        "\n",
        "# running the indexation\n",
        "# It will take a while\n",
        "\n",
        "\n",
        "### small genome\n",
        "programs/STAR-2.7.9a/bin/Linux_x86_64/STAR --runMode genomeGenerate --runThreadN 10  \\\n",
        "--genomeDir referenceGenome/Index_STAR  \\\n",
        "--genomeFastaFiles referenceGenome/Sus.Scrofa.chr1.genome.dna.toplevel.fa  \\\n",
        "--sjdbGTFfile referenceGenome/Sus.Scrofa.chr1.gene.annotation.gtf --sjdbOverhang 99\n"
      ],
      "execution_count": null,
      "outputs": []
    },
    {
      "cell_type": "markdown",
      "metadata": {
        "id": "a8pLv4ERy_DC"
      },
      "source": [
        "### Running STAR for mapping\n",
        "\n",
        "\n",
        "\n",
        "```\n",
        "STAR --genomeDir referenceGenome/Index_STAR \n",
        "--readFilesIn 01-CleanedReads/ERR3417918_PRJEB33381_Sus.Scrofa_Liver_PE1.fastq.gz \\\n",
        "01-CleanedReads/ERR3417918_PRJEB33381_Sus.Scrofa_Liver_PE2.fastq.gz \\\n",
        "--outSAMtype BAM Unsorted SortedByCoordinate \\\n",
        "--sjdbGTFfile referenceGenome/Sus_scrofa.Sscrofa11.1.104.gtf \\\n",
        "--quantMode TranscriptomeSAM GeneCounts \\\n",
        "--outReadsUnmapped  Fastx \\\n",
        "--outFileNamePrefix 02-MappedReads/RR3417918_\n",
        "```\n",
        "\n",
        "- `--readFilesIn` \n",
        "  - Name(s) (with path) of the files containing the sequences to be mapped. If using Illumina paired-end reads, the read1 and read2 files have to be supplied. STAR can process both FASTA and FASTQ files. If the read files are compressed, use the `--readFilesCommand UncompressionCommand option`, where UncompressionCommand is the un-compression command that takes the file name as input parameter, and sends the uncompressed output to stdout. For example, for gzipped files (*.gz) use --readFilesCommand zcat.\n",
        "- `--outSAMtype`\n",
        "  - BAM Unsorted\n",
        "    - output unsorted Aligned.out.bam file. The paired ends of an alignment are always adjacent, and multiple alignments of a read are adjacent as well. This ”unsorted” file can be directly used with downstream software such as HTseq, without the need of name sorting.\n",
        "  - BAM SortedByCoordinate\n",
        "     - output sorted by coordinate Aligned.sortedByCoord.out.bam file, similar to samtools sort command. \n",
        "  - BAM Unsorted SortedByCoordinate\n",
        "    - output both unsorted and sorted files.\n",
        "- `--quantMode` \n",
        "  - TranscriptomeSAM\n",
        "    -  STAR will output alignments translated into transcript coordinates in the Aligned.toTranscriptome.out.bam file. Output in transcript coordinates. (read more in the STAR manual)\n",
        "  - GeneCounts \n",
        "    - STAR will count number reads per gene while mapping. A read is counted if it overlaps (1nt or more) one and only one gene. Both ends of the paired-end read are checked for overlaps. The counts coincide with those produced by htseq-count with default parameters. This option requires annotations in GTF format (i.e. gene id tag for each exon) specified in --sjdbGTFfile at the genome generation step or at the mapping step provided in option. \n",
        "    STAR outputs read counts per gene into ReadsPerGene.out.tab file with 4 columns which correspond to different strandedness options:\n",
        "      - column 1: gene ID\n",
        "      - column 2: counts for unstranded RNA-seq\n",
        "      - column 3: counts for the 1st read strand aligned with RNA (htseq-count option -s yes)\n",
        "      - column 4: counts for the 2nd read strand aligned with RNA (htseq-count option -s reverse)\n",
        "- `--outReadsUnmapped`\n",
        "  - Fastx \n",
        "    - will output unmapped and partially mapped (i.e. mapped only one mate of a paired end read) reads into separate file(s) Unmapped.out.mate1(2), formatted the same way as input read files (i.e. FASTQ or FASTA). Appended to the read name line are tag to indicate mapping status of the read mates:\n",
        "    - 00: mates were not mapped;\n",
        "    - 10: 1st mate mapped, 2nd unmapped\n",
        "    - 01: 1st unmapped, 2nd mapped\n"
      ]
    },
    {
      "cell_type": "code",
      "metadata": {
        "id": "NRlCOD1vfvmQ"
      },
      "source": [
        "%%bash\n",
        "\n",
        "# Running mapping\n",
        "# create a folder to store the mapped and unmapped reads\n",
        "\n",
        "mkdir 02-MappedReads\n",
        "mkdir 03-unMappedReads\n",
        "\n",
        "#Need to uncompress the files because collab seems not work with zcat\n",
        "gunzip 01-CleanedReads/HE*\n",
        "\n",
        "\n",
        "programs/STAR-2.7.9a/bin/Linux_x86_64/STAR --genomeDir referenceGenome/Index_STAR \\\n",
        "--readFilesIn 01-CleanedReads/HE20-100K_L001_PE1.fastq \\\n",
        "01-CleanedReads/HE20-100K_L001_PE2.fastq \\\n",
        "--outSAMtype BAM Unsorted SortedByCoordinate \\\n",
        "--sjdbGTFfile referenceGenome/Sus.Scrofa.chr1.gene.annotation.gtf  \\\n",
        "--quantMode TranscriptomeSAM GeneCounts \\\n",
        "--outReadsUnmapped  Fastx \\\n",
        "--outFileNamePrefix 02-MappedReads/HE20-100K_\n",
        "\n",
        "programs/STAR-2.7.9a/bin/Linux_x86_64/STAR --genomeDir referenceGenome/Index_STAR \\\n",
        "--readFilesIn 01-CleanedReads/HE21-100K_L001_PE1.fastq \\\n",
        "01-CleanedReads/HE21-100K_L001_PE2.fastq \\\n",
        "--outSAMtype BAM Unsorted SortedByCoordinate \\\n",
        "--sjdbGTFfile referenceGenome/Sus.Scrofa.chr1.gene.annotation.gtf  \\\n",
        "--quantMode TranscriptomeSAM GeneCounts \\\n",
        "--outReadsUnmapped  Fastx \\\n",
        "--outFileNamePrefix 02-MappedReads/HE21-100K_\n",
        "\n",
        "# move the unmapped reads from the mapped folder to the unmapped folder\n",
        "mv 02-MappedReads/*Unmapped.out.mate* 03-unMappedReads/\n",
        "\n",
        "ls -l 02-MappedReads/\n",
        "ls -l 03-unMappedReads/ "
      ],
      "execution_count": null,
      "outputs": []
    },
    {
      "cell_type": "code",
      "metadata": {
        "id": "xn6T4AgoGlHj"
      },
      "source": [
        "%%bash\n",
        "less -S 02-MappedReads/HE20-100K_ReadsPerGene.out.tab\n",
        "\n",
        "mkdir 04-GeneCounts"
      ],
      "execution_count": null,
      "outputs": []
    },
    {
      "cell_type": "markdown",
      "metadata": {
        "id": "jx5asPCVHM9n"
      },
      "source": [
        "# BAQCOM\n",
        "\n",
        "We have ran the the analysis with hard code.\n",
        "\n",
        "I have developed an user-friendly pipeline which implements five automated pipelines for RNA-Seq analysis using Trimmomatic for QC, STAR or HISAT2 for mapping and, HTSeq or featuresCount for counting reads.\n",
        "\n",
        "![image.png](data:image/png;base64,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)\n",
        "\n",
        "\n",
        "With a few set of command lines you can run multiple samples at once."
      ]
    },
    {
      "cell_type": "markdown",
      "metadata": {
        "id": "_-kOYhuIILUt"
      },
      "source": [
        "## Setting up the pipeline.\n",
        "\n",
        "\n",
        "\n",
        "```\n",
        "git clone https://github.com/hanielcedraz/BAQCOM.git\n",
        "cd BAQCOM\n",
        "chmod +x install.sh\n",
        "./install.sh\n",
        "```\n",
        "## Quality Control\n",
        "### baqcomTrimmomatic.R\n",
        "```\n",
        "baqcomTrimmomatic.R -p 36 -s 2 (paired-end)\n",
        "baqcomTrimmomatic.R -p 36 -s 2 -z (single-end)\n",
        "```\n",
        "- -p option is the number of processors to use; \n",
        "- -s option is the number of samples to use at time\n",
        "- -z option will run single end analysis\n",
        "- More options can be accessed with -h option (baqcomTrimmomatic.R)\n",
        "\n",
        "-------------------------------------------------------------------------\n",
        "## Mapping\n",
        "### baqcomSTAR.R\n",
        "\n",
        "Running STAR \\\n",
        "Run Genome Index and Mapping \\\n",
        "```\n",
        "baqcomSTAR.R -t /path/to/reference_genome.fa -g /path/to/reference_annotation.gtf -p 20 -q 3 (paired-end)\n",
        "baqcomSTAR.R -t /path/to/reference_genome.fa -g /path/to/reference_annotation.gtf -p 20 -q 3 -z (single-end)\n",
        "```\n",
        "- -t option is the directory where the reference genome is stored (required); \n",
        "- -g option is the directory where the reference annotation is stored (optional but recomended); \n",
        "- -p option is the number of processors to use; \n",
        "- -q option is the number of samples to use at time;\n",
        "- -z option will run single end analysis;\n",
        "- More options can be accessed with -h option (baqcomSTAR.R -h)\n",
        "\n",
        "### baqcomHisat2.R\n",
        "Running HISAT2 \n",
        "Run Genome Index and Mapping \\\n",
        "```\n",
        "baqcomHisat2.R -t /path/to/reference_genome.fa -g /path/to/reference_annotation.gtf -p 20 -q 2 (paired-end)\n",
        "baqcomHisat2.R -t /path/to/reference_genome.fa -g /path/to/reference_annotation.gtf -p 20 -q 2 -z (single-end)\n",
        "```\n",
        "- -t option is the directory where the reference genome is stored (required); \n",
        "- -g option is the directory where the reference annotation is stored (optional but recomended); \n",
        "- -p option is the number of processors to use;\n",
        "- -q option is the number of samples to use at time;\n",
        "- -z option will run single end analysis;\n",
        "- More options can be accessed with -h option (baqcomHisat2.R -h)\n",
        "\n",
        "-------------------------------------------------------------------------\n",
        "## Counting Reads\n",
        "### baqcomHtseq.R\n",
        "Running HTseq-Counts\n",
        "```\n",
        "baqcomHtseq.R -g /path/to/reference_annotation.gtf -q 2 (paired-end)\n",
        "baqcomHtseq.R -g /path/to/reference_annotation.gtf -q 2 -z (single-end)\n",
        "```\n",
        "- -g option is the directory where the reference annotation is stored (required);\n",
        "- -q option is the number of samples to use at time;\n",
        "- -z option will run single end analysis;\n",
        "- More options can be accessed with -h option (baqcomHtseq.R -h)\n",
        "\t\n",
        "### baqcomFeatureCounts.R\n",
        "Running FeatureCounts\n",
        "```\n",
        "baqcomFeatureCounts.R -a /path/to/reference_annotation.gtf -p 20 -q 2 (paired-end)\n",
        "baqcomFeatureCounts.R -a /path/to/reference_annotation.gtf -p 20 -q 2 -z (single-end)\n",
        "```\n",
        "- -a option is the directory where the reference annotation is stored (required);\n",
        "- -p option is the number of processors to use;\n",
        "- -q option is the number of samples to use at time;\n",
        "- -z option will run single end analysis;\n",
        "- More options can be accessed with -h option (baqcomFeatureCounts.R -h)"
      ]
    },
    {
      "cell_type": "code",
      "metadata": {
        "id": "jvk98J7YLiMd"
      },
      "source": [
        "%%bash\n",
        "## Download BAQCOM from github\n",
        "rm -rf BAQCOM\n",
        "git clone https://github.com/hanielcedraz/BAQCOM.git\n",
        "\n",
        "cd BAQCOM\n",
        "# Seting up STAR\n",
        "chmod +x bin/STAR_linux_2.7.6a\n",
        "#rm -f STAR\n",
        "ln -s bin/STAR_linux_2.7.6a STAR\n",
        "echo -e \"\\nSTAR symbolic link created successfully\"\n",
        "mv baqcomSTAR.R baqcomSTAR\n",
        "cat \"baqcomSTAR\" | sed \"s|'STAR'|'./STAR'|\" > baqcomSTAR.R\n",
        "\n",
        "# Seting up HISAT2\n",
        "wget https://cloud.biohpc.swmed.edu/index.php/s/hisat2-210-Linux_x86_64/download -q -O bin/hisat2-2.1.0-Linux_x86_64.zip\n",
        "cd bin/\n",
        "unzip -q hisat2-2.1.0-Linux_x86_64.zip\n",
        "cd ..\n",
        "ln -s bin/hisat2-2.1.0/hisat2 hisat2\n",
        "ln -s bin/hisat2-2.1.0/hisat2-build hisat2-build\n",
        "ln -s bin/hisat2-2.1.0/hisat2_extract_exons.py\n",
        "ln -s bin/hisat2-2.1.0/hisat2_extract_splice_sites.py\n",
        "mv baqcomHisat2.R baqcomHisat2\n",
        "cat \"baqcomHisat2\" | sed \"s|'hisat2'|'./hisat2'|\" > baqcomHisat2.R\n",
        "cat \"baqcomHisat2.R\" | sed \"s|'hisat2-build'|'./hisat2-build'|\" > baqcomHisat2\n",
        "cat \"baqcomHisat2\" | sed \"s|'hisat2_extract_exons.py'|'./hisat2_extract_exons.py'|\" > baqcomHisat2.R\n",
        "cat \"baqcomHisat2.R\" | sed \"s|'hisat2_extract_splice_sites.py'|'./hisat2_extract_splice_sites.py'|\" > baqcomHisat2\n",
        "mv baqcomHisat2 baqcomHisat2.R\n",
        "\n",
        "\n",
        "#Seting up feature Couts\n",
        "wget https://downloads.sourceforge.net/project/subread/subread-2.0.0/subread-2.0.0-Linux-x86_64.tar.gz -q -O bin/subread-2.0.0-Linux-x86_64.tar.gz\n",
        "\n",
        "cd bin/\n",
        "\n",
        "tar xzf subread-2.0.0-Linux-x86_64.tar.gz\n",
        "cd ../\n",
        "ln -s bin/subread-2.0.0-Linux-x86_64/bin/featureCounts .\n",
        "mv baqcomFeatureCounts.R baqcomFeatureCounts\n",
        "cat \"baqcomFeatureCounts\" | sed \"s|'featureCounts'|'./featureCounts'|\" > baqcomFeatureCounts.R\n",
        "\n",
        "\n",
        "\n",
        "#Seting up baqcomTrimmomatic\n",
        "cat \"baqcomTrimmomatic\" | sed \"s|XXX|$PWD|\" > baqcomTrimmomatic.R\n",
        "chmod +x baqcomTrimmomatic.R;\n",
        "rm baqcomTrimmomatic\n",
        "\n",
        "#giving executable permission to the pipelines and scripts\n",
        "chmod +x baqcomFeatureCounts.R baqcomHisat2.R baqcomHtseq.R baqcomSTAR.R createSamples.sh runTest.sh countSTARreads.R\n",
        "\n",
        "#install and configure fastQC\n",
        "cd bin\n",
        "unzip -q -u fastqc_v0.11.8.zip\n",
        "mv -f fastqc_v0.11.8.zip .fastqc_v0.11.8.zip\n",
        "rm -f fastqc\n",
        "cd ../\n",
        "ln -s bin/FastQC/fastqc .\n",
        "chmod +x fastqc\n",
        "\n",
        "#Install required R packages\n",
        "chmod +x installPackages.R;\n",
        "./installPackages.R;\n",
        "mv installPackages.R .installPackages.R\n",
        "ls -lh\n",
        "\n",
        "\n",
        "#install MultiQC from PyPI using pip as follow:\n",
        "#pip install multiqc\n",
        "\n",
        "#install HTSeq-count using pip:\n",
        "#pip install HTSeq\n",
        "\n",
        "\n",
        "echo \"done\""
      ],
      "execution_count": null,
      "outputs": []
    },
    {
      "cell_type": "code",
      "metadata": {
        "id": "3xRhN5eONHcA"
      },
      "source": [
        "%%bash\n",
        "## You need a file containing the samples to be processed\n",
        "## Run:\n",
        "cd BAQCOM\n",
        "mkdir 00-Fastq/\n",
        "cp examples/HE* 00-Fastq/\n",
        "\n",
        "#createSamples.sh -h # to see the options\n",
        "./createSamples.sh\n",
        "\n",
        "head samples.txt\n",
        "\n",
        "echo \"done\""
      ],
      "execution_count": null,
      "outputs": []
    },
    {
      "cell_type": "code",
      "metadata": {
        "id": "cBAcerVjQE_2"
      },
      "source": [
        "%%bash\n",
        "## Running Quality Control\n",
        "cd BAQCOM\n",
        "./baqcomTrimmomatic.R -p 36 -s 2\n",
        "echo \"done\""
      ],
      "execution_count": null,
      "outputs": []
    },
    {
      "cell_type": "code",
      "metadata": {
        "id": "m9fvaUzbRobW"
      },
      "source": [
        "%%bash\n",
        "## Looking at the results\n",
        "cd BAQCOM\n",
        "ls -lh 01-CleanedReads/\n",
        "echo \"done\"\n"
      ],
      "execution_count": null,
      "outputs": []
    },
    {
      "cell_type": "code",
      "metadata": {
        "id": "BhAEXdU8Rxdt"
      },
      "source": [
        "%%bash\n",
        "## Looking at the reports\n",
        "cd BAQCOM\n",
        "ls -lh 02-Reports/\n",
        "echo \"done\""
      ],
      "execution_count": null,
      "outputs": []
    },
    {
      "cell_type": "code",
      "metadata": {
        "colab": {
          "base_uri": "https://localhost:8080/"
        },
        "id": "qIzVDYVwloCb",
        "outputId": "67e50eff-b741-4970-bffa-9754ba061819"
      },
      "source": [
        "%%bash\n",
        "## Uncompressing genome files\n",
        "cd BAQCOM\n",
        "cd examples/genome/\n",
        "gunzip Sus.Scrofa*\n",
        "ls -lh\n",
        "cd ../\n",
        "\n",
        "echo \"done\""
      ],
      "execution_count": 256,
      "outputs": [
        {
          "output_type": "stream",
          "name": "stdout",
          "text": [
            "total 34M\n",
            "drwxr-xr-x 2 root root 4.0K Oct 20 03:16 index_HISAT2\n",
            "-rw-r--r-- 1 root root 4.1M Oct 20 03:14 Sus.Scrofa.chr1.gene.annotation.gtf\n",
            "-rw-r--r-- 1 root root  30M Oct 20 03:14 Sus.Scrofa.chr1.genome.dna.toplevel.fa\n",
            "done\n"
          ]
        }
      ]
    },
    {
      "cell_type": "code",
      "metadata": {
        "id": "piFbji4HQM44"
      },
      "source": [
        "%%bash\n",
        "## Mapping\n",
        "cd BAQCOM\n",
        "# You ocan run STAR or Hisat2\n",
        "# STAR aligns and count\n",
        "# If you use Hisat2 you will need to run another step for counting\n",
        "\n",
        "\n",
        "## STAR\n",
        "./baqcomSTAR.R -t examples/genome/Sus.Scrofa.chr1.genome.dna.toplevel.fa.gz -g examples/genome/Sus.Scrofa.chr1.gene.annotation.gtf -p 20 -q 3\n",
        "\n",
        "echo \"done\"\n"
      ],
      "execution_count": null,
      "outputs": []
    },
    {
      "cell_type": "code",
      "metadata": {
        "id": "RAmY5H1QSBa2"
      },
      "source": [
        "%%bash\n",
        "cd BAQCOM\n",
        "## Looking at the mapping and count reads folder for STAR\n",
        "ls -lh 02-MappedReadsSTAR/\n",
        "ls -lh 04-GeneCountsSTAR/\n",
        "\n",
        "echo \"done\""
      ],
      "execution_count": null,
      "outputs": []
    },
    {
      "cell_type": "code",
      "metadata": {
        "id": "lNa-M7vllLmo"
      },
      "source": [
        "%%bash\n",
        "cd BAQCOM\n",
        "## Hisat2\n",
        "./baqcomHisat2.R -t examples/genome/Sus.Scrofa.chr1.genome.dna.toplevel.fa -g examples/genome/Sus.Scrofa.chr1.gene.annotation.gtf -p 20 -q 2\n",
        "\n",
        "echo \"done\""
      ],
      "execution_count": null,
      "outputs": []
    },
    {
      "cell_type": "code",
      "metadata": {
        "colab": {
          "base_uri": "https://localhost:8080/"
        },
        "id": "ltCEj5Nhhhqa",
        "outputId": "eb40e459-0817-46c3-da6b-02ed8ceeefca"
      },
      "source": [
        "%%bash\n",
        "cd BAQCOM\n",
        "## Looking at the mapping folder for HISAT2\n",
        "\n",
        "ls -lh 02-MappedReadsHISAT2/\n",
        "\n",
        "echo \"done\""
      ],
      "execution_count": 258,
      "outputs": [
        {
          "output_type": "stream",
          "name": "stdout",
          "text": [
            "total 129M\n",
            "-rw-r--r-- 1 root root 777 Oct 20 03:18 HE20-100K_summary.log\n",
            "-rw-r--r-- 1 root root 65M Oct 20 03:18 HE20-100K_unsorted_sample.sam\n",
            "-rw-r--r-- 1 root root 777 Oct 20 03:18 HE21-100K_summary.log\n",
            "-rw-r--r-- 1 root root 65M Oct 20 03:18 HE21-100K_unsorted_sample.sam\n",
            "done\n"
          ]
        }
      ]
    },
    {
      "cell_type": "code",
      "metadata": {
        "id": "QyZAR7rwQ_b_"
      },
      "source": [
        "%%bash\n",
        "cd BAQCOM\n",
        "## Counting Reads\n",
        "\n",
        "# HTSeq-Count\n",
        "./baqcomHtseq.R -g examples/genome/Sus.Scrofa.chr1.gene.annotation.gtf -q 2\n",
        "\n",
        "echo \"done\"\n"
      ],
      "execution_count": null,
      "outputs": []
    },
    {
      "cell_type": "code",
      "metadata": {
        "id": "XBJQwqJXSjvP"
      },
      "source": [
        "%%bash\n",
        "cd BAQCOM\n",
        "## Looking at the count reads folder for HtSeqCount\n",
        "echo -e \"04-GeneCountsHTSeq\\n\"\n",
        "ls -lh 04-GeneCountsHTSeq/\n",
        "\n",
        "\n",
        "\n",
        "echo \"done\""
      ],
      "execution_count": null,
      "outputs": []
    },
    {
      "cell_type": "code",
      "metadata": {
        "id": "q0SPQu1zq5tI"
      },
      "source": [
        "%%bash\n",
        "cd BAQCOM\n",
        "\n",
        "# FeatureCounts\n",
        "./baqcomFeatureCounts.R -a examples/genome/Sus.Scrofa.chr1.gene.annotation.gtf -T 10 -q 2\n",
        "echo \"done\""
      ],
      "execution_count": null,
      "outputs": []
    },
    {
      "cell_type": "code",
      "metadata": {
        "colab": {
          "base_uri": "https://localhost:8080/"
        },
        "id": "EaNpBGn5rNWz",
        "outputId": "681f3854-26ce-4b4c-9ef9-32d016a56bab"
      },
      "source": [
        "%%bash\n",
        "cd BAQCOM\n",
        "## Looking at the count reads folder for FeatureCounts\n",
        "\n",
        "echo -e \"04-GeneCountsHTSeq\\n\"\n",
        "ls -slh 04-GeneCountsFeatCounts/\n",
        "\n",
        "echo \"done\""
      ],
      "execution_count": 262,
      "outputs": [
        {
          "output_type": "stream",
          "name": "stdout",
          "text": [
            "04-GeneCountsHTSeq\n",
            "\n",
            "total 240K\n",
            "8.0K -rw-r--r-- 1 root root 4.6K Oct 20 03:19 HE20-100KfeatCount.counts\n",
            "108K -rw-r--r-- 1 root root 106K Oct 20 03:19 HE20-100KfeatCount.output\n",
            "4.0K -rw-r--r-- 1 root root  406 Oct 20 03:19 HE20-100KfeatCount.output.summary\n",
            "8.0K -rw-r--r-- 1 root root 4.6K Oct 20 03:19 HE21-100KfeatCount.counts\n",
            "108K -rw-r--r-- 1 root root 106K Oct 20 03:19 HE21-100KfeatCount.output\n",
            "4.0K -rw-r--r-- 1 root root  406 Oct 20 03:19 HE21-100KfeatCount.output.summary\n",
            "done\n"
          ]
        }
      ]
    },
    {
      "cell_type": "markdown",
      "metadata": {
        "id": "AcGGAOp8Rj82"
      },
      "source": [
        ""
      ]
    }
  ]
}
